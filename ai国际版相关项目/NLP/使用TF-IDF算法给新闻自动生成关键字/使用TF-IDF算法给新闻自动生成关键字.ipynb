{
 "cells": [
  {
   "cell_type": "code",
   "execution_count": 1,
   "metadata": {},
   "outputs": [
    {
     "name": "stdout",
     "output_type": "stream",
     "text": [
      "a.txt : \n",
      "1 书店 0.8030445611697716\n",
      "2 实体 0.3145257864581606\n",
      "3 扶持 0.19406910228269483\n",
      "4 北京市 0.18068502626319863\n",
      "5 特色 0.15391687422420625\n",
      "b.txt : \n",
      "1 生猪 0.43155232210497\n",
      "2 猪肉 0.3651596571657438\n",
      "3 广西 0.19917799481767845\n",
      "4 生产 0.19917799481767845\n",
      "5 供应 0.1327853298784523\n",
      "c.txt : \n",
      "1 韩国 0.5029373987832176\n",
      "2 美国 0.3520561791482523\n",
      "3 报道 0.2514686993916088\n",
      "4 防卫费 0.2514686993916088\n",
      "5 美方 0.20117495951328707\n"
     ]
    }
   ],
   "source": [
    "import pkuseg\n",
    "from sklearn import feature_extraction \n",
    "from sklearn.feature_extraction.text import TfidfTransformer\n",
    "from sklearn.feature_extraction.text import CountVectorizer\n",
    "import numpy as np\n",
    "seg = pkuseg.pkuseg()\n",
    "def is_chinese(uchar):\n",
    "    if uchar >= u'\\u4e00' and uchar <= u'\\u9fa5':\n",
    "        return True\n",
    "    else:\n",
    "        return False\n",
    "def format_str(content): \n",
    "    content_str = '' \n",
    "    for i in content:\n",
    "        if is_chinese(i):\n",
    "            content_str = content_str + i\n",
    "    return content_str\n",
    "\n",
    "filenames = [\"a.txt\",\"b.txt\",\"c.txt\"]\n",
    "if __name__ == \"__main__\": \n",
    "    corpus = []\n",
    "    for name in filenames:\n",
    "        with open(name,'r') as f:\n",
    "            str = f.read()\n",
    "            str = format_str(str)\n",
    "            str = seg.cut(str) \n",
    "            corpus.append(\" \".join(str))\n",
    "\n",
    "    vectorizer=CountVectorizer()\n",
    "    #该类会将文本中的词语转换为词频矩阵，矩阵元素a[i][j] 表示j词在i 类文本下的词频\n",
    "    transformer=TfidfTransformer() #该类会统计每个词语的tf- idf权值\n",
    "    tfidf=transformer.fit_transform(vectorizer.fit_transform( corpus))\n",
    "    #第一个fit_transform是计算tf-idf，第二个fit_transform是将 文本转为词频矩阵\n",
    "    word=vectorizer.get_feature_names() #获取词袋模型中的所有词语\n",
    "    weight=tfidf.toarray() #将tf-idf矩阵抽取出来，元素a[i][j]表示j词在i类文本中的tf-idf权重\n",
    "\n",
    "    for (name, w) in zip(filenames,weight):\n",
    "        print(name,\": \")\n",
    "        loc = np.argsort(-w) \n",
    "        for i in range(5):\n",
    "            print(i+1,word[loc[i]], w[loc[i]])"
   ]
  },
  {
   "cell_type": "code",
   "execution_count": null,
   "metadata": {},
   "outputs": [],
   "source": []
  }
 ],
 "metadata": {
  "kernelspec": {
   "display_name": "Python 3",
   "language": "python",
   "name": "python3"
  },
  "language_info": {
   "codemirror_mode": {
    "name": "ipython",
    "version": 3
   },
   "file_extension": ".py",
   "mimetype": "text/x-python",
   "name": "python",
   "nbconvert_exporter": "python",
   "pygments_lexer": "ipython3",
   "version": "3.7.3"
  }
 },
 "nbformat": 4,
 "nbformat_minor": 2
}
