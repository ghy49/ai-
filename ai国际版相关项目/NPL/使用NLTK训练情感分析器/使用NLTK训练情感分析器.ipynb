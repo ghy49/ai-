{
 "cells": [
  {
   "cell_type": "code",
   "execution_count": 1,
   "metadata": {},
   "outputs": [
    {
     "name": "stderr",
     "output_type": "stream",
     "text": [
      "[nltk_data] Downloading package movie_reviews to\n",
      "[nltk_data]     /home/ghy/nltk_data...\n",
      "[nltk_data]   Package movie_reviews is already up-to-date!\n"
     ]
    }
   ],
   "source": [
    "import nltk\n",
    "\n",
    "if __name__==\"__main__\":\n",
    "    nltk.download('movie_reviews')"
   ]
  },
  {
   "cell_type": "code",
   "execution_count": 2,
   "metadata": {},
   "outputs": [],
   "source": [
    "import nltk.classify.util\n",
    "from nltk.classify import NaiveBayesClassifier\n",
    "from nltk.corpus import movie_reviews"
   ]
  },
  {
   "cell_type": "code",
   "execution_count": 3,
   "metadata": {},
   "outputs": [],
   "source": [
    "if __name__ == '__main__':\n",
    "    positive_fileids = movie_reviews.fileids('pos')\n",
    "    negative_fileids = movie_reviews.fileids('neg')"
   ]
  },
  {
   "cell_type": "code",
   "execution_count": 4,
   "metadata": {},
   "outputs": [],
   "source": [
    "def extract_features(word_list):\n",
    "    return dict([(word,True) for word in word_list])"
   ]
  },
  {
   "cell_type": "code",
   "execution_count": 5,
   "metadata": {},
   "outputs": [],
   "source": [
    "features_positive =[(extract_features(movie_reviews.words(fileids=[f])),'Positive') for f in positive_fileids]\n",
    "features_negative =[(extract_features(movie_reviews.words(fileids=[f])),'Negative') for f in negative_fileids]"
   ]
  },
  {
   "cell_type": "code",
   "execution_count": 6,
   "metadata": {},
   "outputs": [],
   "source": [
    "#Split the data into train and test (80/20)\n",
    "threshold_factor = 0.8\n",
    "threshold_positive =int(threshold_factor*len(features_positive))\n",
    "threshold_negative =int(threshold_factor*len(features_negative))\n",
    "features_train = features_positive[:threshold_positive]+ features_negative[:threshold_negative]\n",
    "features_test = features_positive[threshold_positive:] +features_negative[threshold_negative:]"
   ]
  },
  {
   "cell_type": "code",
   "execution_count": 7,
   "metadata": {},
   "outputs": [
    {
     "name": "stdout",
     "output_type": "stream",
     "text": [
      "\n",
      "Accuracy of the classifier: 0.735\n"
     ]
    }
   ],
   "source": [
    "# Train a Naive Bayes classifier\n",
    "classifier = NaiveBayesClassifier.train(features_train)\n",
    "print (\"\\nAccuracy of the classifier:\",\n",
    "nltk.classify.util.accuracy(classifier, features_test))"
   ]
  },
  {
   "cell_type": "code",
   "execution_count": 8,
   "metadata": {},
   "outputs": [
    {
     "name": "stdout",
     "output_type": "stream",
     "text": [
      "\n",
      "Top 10 most informative words:\n",
      "outstanding\n",
      "insulting\n",
      "vulnerable\n",
      "ludicrous\n",
      "uninvolving\n",
      "astounding\n",
      "avoids\n",
      "fascination\n",
      "anna\n",
      "animators\n"
     ]
    }
   ],
   "source": [
    "print (\"\\nTop 10 most informative words:\")\n",
    "for item in classifier.most_informative_features()[:10]:\n",
    "    print (item[0])"
   ]
  },
  {
   "cell_type": "code",
   "execution_count": 13,
   "metadata": {},
   "outputs": [],
   "source": [
    "# Sample input reviews\n",
    "input_reviews = [\"It is an amazing movie\",\"This is a dull movie. I would never recommend it to anyone.\",\n",
    "  \"A complete and utter destruction of one of the most iconic superheroes. 0.1 effort and thought put into the storyline. A coming of age awkward teenage movie with a'spiderman' stamp put on it. Bad jokes aimed at teenagers (at best). A complete caricature of a villain,a complete caricature of a Spiderman. Just please stop making this garbage Put some god damn effort! A total waste of time\",\n",
    "\"Just staving off some negative reviews. Fits well into the Marvel movies to date and is an excellent follow up to Avengers: Endgame.\"]"
   ]
  },
  {
   "cell_type": "code",
   "execution_count": 14,
   "metadata": {},
   "outputs": [
    {
     "name": "stdout",
     "output_type": "stream",
     "text": [
      "\n",
      "Predictions:\n",
      "\n",
      "Review: It is an amazing movie\n",
      "Predicted sentiment: Positive\n",
      "Probability: 0.61\n",
      "\n",
      "Review: This is a dull movie. I would never recommend it to anyone.\n",
      "Predicted sentiment: Negative\n",
      "Probability: 0.77\n",
      "\n",
      "Review: A complete and utter destruction of one of the most iconic superheroes. 0.1 effort and thought put into the storyline. A coming of age awkward teenage movie with a'spiderman' stamp put on it. Bad jokes aimed at teenagers (at best). A complete caricature of a villain,a complete caricature of a Spiderman. Just please stop making this garbage Put some god damn effort! A total waste of time\n",
      "Predicted sentiment: Negative\n",
      "Probability: 0.99\n",
      "\n",
      "Review: Just staving off some negative reviews. Fits well into the Marvel movies to date and is an excellent follow up to Avengers: Endgame.\n",
      "Predicted sentiment: Positive\n",
      "Probability: 0.92\n"
     ]
    }
   ],
   "source": [
    "print (\"\\nPredictions:\")\n",
    "for review in input_reviews:\n",
    "    print (\"\\nReview:\", review)\n",
    "    probdist =classifier.prob_classify(extract_features(review.split()))\n",
    "    pred_sentiment = probdist.max()\n",
    "    print (\"Predicted sentiment:\", pred_sentiment )\n",
    "    print (\"Probability:\",round(probdist.prob(pred_sentiment), 2))"
   ]
  },
  {
   "cell_type": "code",
   "execution_count": null,
   "metadata": {},
   "outputs": [],
   "source": []
  }
 ],
 "metadata": {
  "kernelspec": {
   "display_name": "Python 3",
   "language": "python",
   "name": "python3"
  },
  "language_info": {
   "codemirror_mode": {
    "name": "ipython",
    "version": 3
   },
   "file_extension": ".py",
   "mimetype": "text/x-python",
   "name": "python",
   "nbconvert_exporter": "python",
   "pygments_lexer": "ipython3",
   "version": "3.7.3"
  }
 },
 "nbformat": 4,
 "nbformat_minor": 2
}
